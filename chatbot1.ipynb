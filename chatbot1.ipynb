{
  "nbformat": 4,
  "nbformat_minor": 0,
  "metadata": {
    "colab": {
      "provenance": [],
      "authorship_tag": "ABX9TyOaRHitI0TOuaD29/khaagB",
      "include_colab_link": true
    },
    "kernelspec": {
      "name": "python3",
      "display_name": "Python 3"
    },
    "language_info": {
      "name": "python"
    }
  },
  "cells": [
    {
      "cell_type": "markdown",
      "metadata": {
        "id": "view-in-github",
        "colab_type": "text"
      },
      "source": [
        "<a href=\"https://colab.research.google.com/github/poojasanthoshenpothele/codesoft/blob/main/chatbot1.ipynb\" target=\"_parent\"><img src=\"https://colab.research.google.com/assets/colab-badge.svg\" alt=\"Open In Colab\"/></a>"
      ]
    },
    {
      "cell_type": "code",
      "execution_count": null,
      "metadata": {
        "id": "Pu7SmbIrppul",
        "colab": {
          "base_uri": "https://localhost:8080/",
          "height": 211
        },
        "outputId": "5e0912cc-e30b-4468-9681-da9859dee160"
      },
      "outputs": [
        {
          "output_type": "error",
          "ename": "AttributeError",
          "evalue": "ignored",
          "traceback": [
            "\u001b[0;31m---------------------------------------------------------------------------\u001b[0m",
            "\u001b[0;31mAttributeError\u001b[0m                            Traceback (most recent call last)",
            "\u001b[0;32m<ipython-input-2-5af0a8b3b66c>\u001b[0m in \u001b[0;36m<cell line: 80>\u001b[0;34m()\u001b[0m\n\u001b[1;32m     78\u001b[0m \u001b[0;34m\u001b[0m\u001b[0m\n\u001b[1;32m     79\u001b[0m \u001b[0mbot\u001b[0m \u001b[0;34m=\u001b[0m \u001b[0mSupportBot\u001b[0m\u001b[0;34m(\u001b[0m\u001b[0;34m)\u001b[0m\u001b[0;34m\u001b[0m\u001b[0;34m\u001b[0m\u001b[0m\n\u001b[0;32m---> 80\u001b[0;31m \u001b[0mbot\u001b[0m\u001b[0;34m.\u001b[0m\u001b[0mgreet\u001b[0m\u001b[0;34m(\u001b[0m\u001b[0;34m)\u001b[0m\u001b[0;34m\u001b[0m\u001b[0;34m\u001b[0m\u001b[0m\n\u001b[0m",
            "\u001b[0;31mAttributeError\u001b[0m: 'SupportBot' object has no attribute 'greet'"
          ]
        }
      ],
      "source": [
        "import random\n",
        "import re\n",
        "\n",
        "class SupportBot:\n",
        "  negative_res ={\"nope\",\"no\",\"i don't konw\",\"sorry\"}\n",
        "  exit_commands = {\"quite\",\"pause\",\"exit\",\"goodbye\",\"bye\",\"text you later\"}\n",
        "\n",
        "def __init__(self):\n",
        "  self.support_responses = {'ask_about_product':r'.*\\s*product.*',\n",
        "                            'technial_support':r'*technical.*support.*',\n",
        "                            'about_returns':r'.*\\s*returnpolicy.*',\n",
        "                            'general_doubts':r'.*how.*help.*'\n",
        "  }\n",
        "\n",
        "def greet(self):\n",
        "  self.name = input(\"Hello! Welcome to our customer support.Can please tell your name?\\n\")\n",
        "  will_help = input(f\"Hi {self.name},how can i help you today?\\n\")\n",
        "  if will_help in self.negative_res:\n",
        "    print(\"Alright have nice day!\")\n",
        "    return\n",
        "  self.chat()\n",
        "\n",
        "def make_exit(self,reply):\n",
        "  for command in self.exit_commands:\n",
        "    if command in reply:\n",
        "      print(\"Thanks for reaching out.Have a nice day!\")\n",
        "      return True\n",
        "    return False\n",
        "\n",
        "def chat(self):\n",
        "  reply = input(\"please tell me  your doubt :\").lower()\n",
        "  while not self.make_exit(reply):\n",
        "    reply = input(self.match_reply(reply))\n",
        "\n",
        "\n",
        "def match_reply(self,reply):\n",
        "  for intent , regex_pattern in self.support_responses.items():\n",
        "    found_match = re.seatrch(regex_pattern,reply)\n",
        "    if found_match and intent =='ask_about_produt':\n",
        "      return self.ask_about_product()\n",
        "    elif found_match and intent =='technical_support':\n",
        "      return self.technical_support()\n",
        "    elif found_match and intent =='about_returns':\n",
        "      return self.about_returns()\n",
        "    elif found_match and intent =='general_doubts':\n",
        "      return self.general_doubts()\n",
        "  return self.no_match_intent()\n",
        "\n",
        "\n",
        "def ask_about_product(self):\n",
        "  responses =(\"Our product is top notch and has excellent reviews!\\n\",\n",
        "              \"You can find all product details in our website.\\n\")\n",
        "  return random.choice(responses)\n",
        "\n",
        "def technical_support(self):\n",
        "  responses =(\"Please visit our technical support page for detailed assistance.\\n\",\n",
        "              \"You can also contact us for immediate help.\\n\")\n",
        "  return random.choice(responses)\n",
        "\n",
        "\n",
        "def about_doubts(self):\n",
        "  responses =(\"We have a 30-day return policy.\\n\",\n",
        "              \"Please ensure the product is in its original condition When returning.\\n\")\n",
        "  return random.choice(responses)\n",
        "\n",
        "\n",
        "def general_doubts(self):\n",
        "  responses =(\"How can I help you futher?\\n\",\n",
        "              \"Is there anything else you'd like to know?\\n\")\n",
        "  return random.choice(responses)\n",
        "\n",
        "\n",
        "def no_match_intent(self):\n",
        "  responses =(\"I'm sorry,I didn't quite understand that.Can u please repeate or rephrase?\\n\",\n",
        "              \"You can find all product details in our website.\\n\")\n",
        "  return random.choice(responses)\n",
        "\n",
        "\n",
        "bot = SupportBot()\n",
        "bot.greet()"
      ]
    },
    {
      "cell_type": "code",
      "source": [],
      "metadata": {
        "id": "wbxZMyFCZ6FS"
      },
      "execution_count": null,
      "outputs": []
    }
  ]
}